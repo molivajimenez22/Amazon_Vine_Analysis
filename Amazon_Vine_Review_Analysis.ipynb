{
 "cells": [
  {
   "cell_type": "code",
   "execution_count": null,
   "id": "5a8a9369",
   "metadata": {},
   "outputs": [],
   "source": [
    "import os\n",
    "# Find the latest version of spark 3.0 from http://www.apache.org/dist/spark/ and enter as the spark version\n",
    "# For example:\n",
    "# spark_version = 'spark-3.0.3'\n",
    "spark_version = 'spark-3.0.3'\n",
    "os.environ['SPARK_VERSION']=spark_version\n",
    "\n",
    "# Install Spark and Java\n",
    "!apt-get update\n",
    "!apt-get install openjdk-11-jdk-headless -qq > /dev/null\n",
    "!wget -q http://www.apache.org/dist/spark/$SPARK_VERSION/$SPARK_VERSION-bin-hadoop2.7.tgz\n",
    "!tar xf $SPARK_VERSION-bin-hadoop2.7.tgz\n",
    "!pip install -q findspark\n",
    "\n",
    "# Set Environment Variables\n",
    "import os\n",
    "os.environ[\"JAVA_HOME\"] = \"/usr/lib/jvm/java-11-openjdk-amd64\"\n",
    "os.environ[\"SPARK_HOME\"] = f\"/content/{spark_version}-bin-hadoop2.7\"\n",
    "\n",
    "# Start a SparkSession\n",
    "import findspark\n",
    "findspark.init()"
   ]
  },
  {
   "cell_type": "code",
   "execution_count": null,
   "id": "e7eb504c",
   "metadata": {},
   "outputs": [],
   "source": [
    "# Download the Postgres driver that will allow Spark to interact with Postgres.\n",
    "!wget https://jdbc.postgresql.org/download/postgresql-42.2.16.jar"
   ]
  },
  {
   "cell_type": "code",
   "execution_count": null,
   "id": "7ef8b288",
   "metadata": {},
   "outputs": [],
   "source": [
    "from pyspark.sql import SparkSession\n",
    "spark = SparkSession.builder.appName(\"VineReviewAnalysis\").config(\"spark.driver.extraClassPath\",\"/content/postgresql-42.2.16.jar\").getOrCreate()"
   ]
  },
  {
   "cell_type": "code",
   "execution_count": null,
   "id": "5cefda8c",
   "metadata": {},
   "outputs": [],
   "source": [
    "from pyspark import SparkFiles\n",
    "url = \"https://s3.amazonaws.com/amazon-reviews-pds/tsv/amazon_reviews_us_Video_Games_v1_00.tsv.gz\"\n",
    "spark.sparkContext.addFile(url)\n",
    "df = spark.read.option(\"encoding\", \"UTF-8\").csv(SparkFiles.get(\"\"), sep=\"\\t\", header=True, inferSchema=True)\n",
    "df.show()"
   ]
  },
  {
   "cell_type": "code",
   "execution_count": null,
   "id": "89277213",
   "metadata": {},
   "outputs": [],
   "source": [
    "\n",
    "from pyspark.sql.functions import to_date\n",
    "# Read in the Review dataset as a DataFrame\n",
    "filtered_games_df = df.select([\"review_id\", \"star_rating\", \"helpful_votes\", \"total_votes\", \"vine\", \"verified_purchase\"])\n",
    "filtered_games_df.show(5)"
   ]
  },
  {
   "cell_type": "code",
   "execution_count": null,
   "id": "4e6b01bc",
   "metadata": {},
   "outputs": [],
   "source": [
    "# The data is filtered to create a DataFrame where the total_votes count is equal to or greater than 20 to pick reviews\n",
    "filtered_twenty_df = filtered_games_df.filter(filtered_games_df['total_votes'] >= 20)\n",
    "filtered_twenty_df.show(5)"
   ]
  },
  {
   "cell_type": "code",
   "execution_count": null,
   "id": "859444c8",
   "metadata": {},
   "outputs": [],
   "source": [
    "# Create the DataFrame or table to retrieve all the rows where the number of helpful_votes divided by total_votes is equal to or greater than 50%.\n",
    "fifty_percent_df = filtered_twenty_df.filter(filtered_twenty_df[\"helpful_votes\"]/filtered_twenty_df[\"total_votes\"] >= 0.5)\n",
    "fifty_percent_df.show(5)"
   ]
  },
  {
   "cell_type": "code",
   "execution_count": null,
   "id": "1d1b9e13",
   "metadata": {},
   "outputs": [],
   "source": [
    "# create a new DataFrame or table that retrieves all the rows where a review was written as part of the Vine program (paid), vine == 'Y'\n",
    "vine_review_df = fifty_percent_df.filter(fifty_percent_df['vine'] == 'Y')\n",
    "vine_review_df.show(5)"
   ]
  },
  {
   "cell_type": "code",
   "execution_count": null,
   "id": "e4bfc34e",
   "metadata": {},
   "outputs": [],
   "source": [
    "# retrieve all the rows where the review was not part of the Vine program (unpaid), vine == 'N'.\n",
    "no_vine_review_df = fifty_percent_df.filter(fifty_percent_df['vine'] == 'N')\n",
    "no_vine_review_df.show(5)"
   ]
  },
  {
   "cell_type": "code",
   "execution_count": null,
   "id": "4b5885e2",
   "metadata": {},
   "outputs": [],
   "source": [
    "#result questions vine amounts\n",
    "total_vine = vine_review_df.count()\n",
    "print(total_vine)"
   ]
  },
  {
   "cell_type": "code",
   "execution_count": null,
   "id": "35954eca",
   "metadata": {},
   "outputs": [],
   "source": [
    "vine_five_star_amount = vine_review_df.filter(vine_review_df['star_rating'] == 5).count()\n",
    "print(vine_five_star_amount)"
   ]
  },
  {
   "cell_type": "code",
   "execution_count": null,
   "id": "c80c325d",
   "metadata": {},
   "outputs": [],
   "source": [
    "percentage_five_star_vine = float(vine_five_star_amount) / float(total_vine)\n",
    "print(percentage_five_star_vine)"
   ]
  },
  {
   "cell_type": "code",
   "execution_count": null,
   "id": "43d3fd10",
   "metadata": {},
   "outputs": [],
   "source": [
    "# result questions non vine amounts\n",
    "no_vine = no_vine_review_df.count()\n",
    "print(no_vine)"
   ]
  },
  {
   "cell_type": "code",
   "execution_count": null,
   "id": "ba789133",
   "metadata": {},
   "outputs": [],
   "source": [
    "no_vine_five_star_amount = no_vine_review_df.filter(vine_review_df['star_rating'] == 5).count()\n",
    "print(no_vine_five_star_amount)"
   ]
  },
  {
   "cell_type": "code",
   "execution_count": null,
   "id": "a9828171",
   "metadata": {},
   "outputs": [],
   "source": [
    "percentage_five_star_no_vine = float(no_vine_five_star_amount) / float(no_vine)\n",
    "print(percentage_five_star_no_vine)"
   ]
  },
  {
   "cell_type": "code",
   "execution_count": null,
   "id": "c95f73a8",
   "metadata": {},
   "outputs": [],
   "source": [
    "no_vine + total_vine"
   ]
  }
 ],
 "metadata": {
  "kernelspec": {
   "display_name": "PythonData",
   "language": "python",
   "name": "pythondata"
  },
  "language_info": {
   "codemirror_mode": {
    "name": "ipython",
    "version": 3
   },
   "file_extension": ".py",
   "mimetype": "text/x-python",
   "name": "python",
   "nbconvert_exporter": "python",
   "pygments_lexer": "ipython3",
   "version": "3.7.11"
  }
 },
 "nbformat": 4,
 "nbformat_minor": 5
}
